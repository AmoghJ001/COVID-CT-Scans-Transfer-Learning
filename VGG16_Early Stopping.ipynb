{
 "cells": [
  {
   "cell_type": "code",
   "execution_count": null,
   "metadata": {
    "colab": {
     "base_uri": "https://localhost:8080/",
     "height": 129
    },
    "colab_type": "code",
    "id": "87T5BetZQYQv",
    "outputId": "d4774b3a-feb5-4434-9342-322ca296881d"
   },
   "outputs": [
    {
     "name": "stdout",
     "output_type": "stream",
     "text": [
      "Go to this URL in a browser: https://accounts.google.com/o/oauth2/auth?client_id=947318989803-6bn6qk8qdgf4n4g3pfee6491hc0brc4i.apps.googleusercontent.com&redirect_uri=urn%3aietf%3awg%3aoauth%3a2.0%3aoob&scope=email%20https%3a%2f%2fwww.googleapis.com%2fauth%2fdocs.test%20https%3a%2f%2fwww.googleapis.com%2fauth%2fdrive%20https%3a%2f%2fwww.googleapis.com%2fauth%2fdrive.photos.readonly%20https%3a%2f%2fwww.googleapis.com%2fauth%2fpeopleapi.readonly&response_type=code\n",
      "\n",
      "Enter your authorization code:\n",
      "4/4AEYKYb_GWuDrpYhqi2znZS_CK697gHchZHvsQSU6Za4nvFQFk_JfMk\n",
      "Mounted at /content/drive\n"
     ]
    }
   ],
   "source": [
    "from google.colab import drive\n",
    "drive.mount('/content/drive')"
   ]
  },
  {
   "cell_type": "code",
   "execution_count": null,
   "metadata": {
    "colab": {
     "base_uri": "https://localhost:8080/",
     "height": 74
    },
    "colab_type": "code",
    "id": "IX7v0kHFmGcJ",
    "outputId": "f0181b4e-4962-4efd-d811-afd80ef4f273"
   },
   "outputs": [
    {
     "name": "stderr",
     "output_type": "stream",
     "text": [
      "/usr/local/lib/python3.6/dist-packages/statsmodels/tools/_testing.py:19: FutureWarning: pandas.util.testing is deprecated. Use the functions in the public API at pandas.testing instead.\n",
      "  import pandas.util.testing as tm\n"
     ]
    }
   ],
   "source": [
    "import os\n",
    "import numpy as np\n",
    "import pandas as pd\n",
    "import cv2\n",
    "import seaborn as sns\n",
    "from sklearn.model_selection import train_test_split\n",
    "from tqdm import tqdm\n",
    "import matplotlib.pyplot as plt\n",
    "import keras\n",
    "\n",
    "import numpy as np \n",
    "import pandas as pd\n",
    "import glob\n",
    "import cv2\n",
    "import os\n",
    "from pathlib import Path\n",
    "from sklearn.utils import shuffle\n",
    "from sklearn.model_selection import train_test_split\n",
    "from keras.utils import to_categorical\n",
    "from keras.preprocessing.image import ImageDataGenerator\n",
    "from keras.layers import Conv2D, MaxPooling2D, Flatten, Dense, BatchNormalization, Dropout\n",
    "from keras.models import Sequential\n",
    "\n",
    "import os\n",
    "import tensorflow as tf\n",
    "from keras import layers\n",
    "from keras import Model\n",
    "from os import getcwd\n",
    "from keras.optimizers import RMSprop\n",
    "from keras.preprocessing.image import ImageDataGenerator\n",
    "import cv2\n",
    "from tqdm import tqdm\n",
    "import matplotlib.pyplot as plt\n",
    "from keras.optimizers import RMSprop\n",
    "import keras\n",
    "from keras.models import Sequential, Model\n",
    "from keras.layers import Conv2D, Dense, MaxPooling2D, Flatten, Dropout,GlobalAveragePooling2D\n",
    "from keras.preprocessing.image import ImageDataGenerator\n",
    "from keras.optimizers import Adam\n",
    "import keras\n",
    "from keras.models import Sequential\n",
    "from keras.layers import Input, Dense, Conv2D\n",
    "from keras.layers import MaxPooling2D, Dropout,Flatten\n",
    "from keras import backend as K\n",
    "from keras.models import Model\n",
    "import numpy as np\n",
    "import matplotlib.pyplot as plt\n",
    "from keras.applications.xception import preprocess_input\n"
   ]
  },
  {
   "cell_type": "code",
   "execution_count": null,
   "metadata": {
    "colab": {
     "base_uri": "https://localhost:8080/",
     "height": 128
    },
    "colab_type": "code",
    "id": "Ot_nUrIh27yi",
    "outputId": "092dc169-e6ea-4a9f-9847-2712b7bba21e"
   },
   "outputs": [
    {
     "name": "stdout",
     "output_type": "stream",
     "text": [
      "955\n",
      "60\n",
      "1170\n",
      "58\n",
      "Test Covid 98\n",
      "Test Noncovid 105\n"
     ]
    }
   ],
   "source": [
    "data_dir = Path('/content/COVID Splitaug2') # Your Dataset Location Path\n",
    "train_dir = os.path.join(data_dir, 'Train')\n",
    "test_dir = os.path.join(data_dir, 'Test')\n",
    "#test_dir2 = os.path.join(data_dir, 'Test2')\n",
    "val_dir = os.path.join(data_dir, 'Val')\n",
    "train_malaria_dir = os.path.join(train_dir, 'COVID') #Replace the folder names\n",
    "train_uninfected_dir = os.path.join(train_dir, 'NON-COVID')\n",
    "validation_malaria_dir = os.path.join(val_dir, 'COVID')\n",
    "validation_uninfected_dir = os.path.join(val_dir, 'NON-COVID')\n",
    "test_malaria_dir = os.path.join(test_dir, 'COVID') #Replace the folder names\n",
    "test_uninfected_dir = os.path.join(test_dir, 'NON-COVID')\n",
    "#test_malaria_dir2 = os.path.join(test_dir2, 'COVID') #Replace the folder names\n",
    "#test_uninfected_dir2 = os.path.join(test_dir2, 'NON-COVID')\n",
    "\n",
    "train_malaria_fnames = os.listdir(train_malaria_dir)\n",
    "train_uninfected_fnames = os.listdir(train_uninfected_dir)\n",
    "validation_malaria_fnames = os.listdir(validation_malaria_dir)\n",
    "validation_uninfected_fnames = os.listdir(validation_uninfected_dir)\n",
    "test_malaria_fnames = os.listdir(test_malaria_dir)\n",
    "test_uninfected_fnames = os.listdir(test_uninfected_dir)\n",
    "##test_malaria_fnames2 = os.listdir(test_malaria_dir2)\n",
    "#test_uninfected_fnames2 = os.listdir(test_uninfected_dir2)\n",
    "\n",
    "\n",
    "print(len(train_malaria_fnames))\n",
    "print(len(validation_malaria_fnames))\n",
    "print(len(train_uninfected_fnames))\n",
    "print(len(validation_uninfected_fnames))\n",
    "print(\"Test Covid\", len(test_malaria_fnames))\n",
    "print(\"Test Noncovid\", len(test_uninfected_fnames))\n",
    "\n"
   ]
  },
  {
   "cell_type": "code",
   "execution_count": null,
   "metadata": {
    "colab": {
     "base_uri": "https://localhost:8080/",
     "height": 54
    },
    "colab_type": "code",
    "id": "zsDFA01v275K",
    "outputId": "87a67e43-ee75-4c0f-ef50-54d9e65f478e"
   },
   "outputs": [
    {
     "name": "stdout",
     "output_type": "stream",
     "text": [
      "Found 2125 images belonging to 2 classes.\n",
      "Found 118 images belonging to 2 classes.\n"
     ]
    }
   ],
   "source": [
    "train_datagen = ImageDataGenerator(preprocessing_function=tf.keras.applications.vgg16.preprocess_input)\n",
    "\n",
    "\n",
    "train_generator = train_datagen.flow_from_directory(train_dir,\n",
    "                                                    batch_size=16,\n",
    "                                                    class_mode='categorical',\n",
    "                                                    target_size=(224, 224)\n",
    "                                                    )\n",
    "validation_datagen = ImageDataGenerator(#rescale=1./255\n",
    "                                        preprocessing_function=tf.keras.applications.vgg16.preprocess_input\n",
    "                                        )\n",
    " \n",
    "\n",
    "validation_generator = validation_datagen.flow_from_directory(val_dir,\n",
    "                                                              batch_size=8,\n",
    "                                                              class_mode='categorical',\n",
    "                                                              target_size=(224, 224))"
   ]
  },
  {
   "cell_type": "code",
   "execution_count": null,
   "metadata": {
    "colab": {
     "base_uri": "https://localhost:8080/",
     "height": 1000
    },
    "colab_type": "code",
    "id": "j1tgG4OB27-q",
    "outputId": "45664b1c-2e5c-4196-f580-838538c28602"
   },
   "outputs": [
    {
     "name": "stdout",
     "output_type": "stream",
     "text": [
      "Model: \"vgg16\"\n",
      "_________________________________________________________________\n",
      "Layer (type)                 Output Shape              Param #   \n",
      "=================================================================\n",
      "input_2 (InputLayer)         [(None, 224, 224, 3)]     0         \n",
      "_________________________________________________________________\n",
      "block1_conv1 (Conv2D)        (None, 224, 224, 64)      1792      \n",
      "_________________________________________________________________\n",
      "block1_conv2 (Conv2D)        (None, 224, 224, 64)      36928     \n",
      "_________________________________________________________________\n",
      "block1_pool (MaxPooling2D)   (None, 112, 112, 64)      0         \n",
      "_________________________________________________________________\n",
      "block2_conv1 (Conv2D)        (None, 112, 112, 128)     73856     \n",
      "_________________________________________________________________\n",
      "block2_conv2 (Conv2D)        (None, 112, 112, 128)     147584    \n",
      "_________________________________________________________________\n",
      "block2_pool (MaxPooling2D)   (None, 56, 56, 128)       0         \n",
      "_________________________________________________________________\n",
      "block3_conv1 (Conv2D)        (None, 56, 56, 256)       295168    \n",
      "_________________________________________________________________\n",
      "block3_conv2 (Conv2D)        (None, 56, 56, 256)       590080    \n",
      "_________________________________________________________________\n",
      "block3_conv3 (Conv2D)        (None, 56, 56, 256)       590080    \n",
      "_________________________________________________________________\n",
      "block3_pool (MaxPooling2D)   (None, 28, 28, 256)       0         \n",
      "_________________________________________________________________\n",
      "block4_conv1 (Conv2D)        (None, 28, 28, 512)       1180160   \n",
      "_________________________________________________________________\n",
      "block4_conv2 (Conv2D)        (None, 28, 28, 512)       2359808   \n",
      "_________________________________________________________________\n",
      "block4_conv3 (Conv2D)        (None, 28, 28, 512)       2359808   \n",
      "_________________________________________________________________\n",
      "block4_pool (MaxPooling2D)   (None, 14, 14, 512)       0         \n",
      "_________________________________________________________________\n",
      "block5_conv1 (Conv2D)        (None, 14, 14, 512)       2359808   \n",
      "_________________________________________________________________\n",
      "block5_conv2 (Conv2D)        (None, 14, 14, 512)       2359808   \n",
      "_________________________________________________________________\n",
      "block5_conv3 (Conv2D)        (None, 14, 14, 512)       2359808   \n",
      "_________________________________________________________________\n",
      "block5_pool (MaxPooling2D)   (None, 7, 7, 512)         0         \n",
      "_________________________________________________________________\n",
      "flatten (Flatten)            (None, 25088)             0         \n",
      "_________________________________________________________________\n",
      "fc1 (Dense)                  (None, 4096)              102764544 \n",
      "_________________________________________________________________\n",
      "fc2 (Dense)                  (None, 4096)              16781312  \n",
      "_________________________________________________________________\n",
      "predictions (Dense)          (None, 1000)              4097000   \n",
      "=================================================================\n",
      "Total params: 138,357,544\n",
      "Trainable params: 138,357,544\n",
      "Non-trainable params: 0\n",
      "_________________________________________________________________\n"
     ]
    }
   ],
   "source": [
    "model = keras.applications.VGG16(input_shape = (224, 224, 3), \n",
    "                                include_top = True, \n",
    "                                weights = 'imagenet')\n",
    "\n",
    "\n",
    "for layer in model.layers:\n",
    "    layer.trainable = True\n",
    "  \n",
    "    \n",
    "model.summary()"
   ]
  },
  {
   "cell_type": "code",
   "execution_count": null,
   "metadata": {
    "colab": {
     "base_uri": "https://localhost:8080/",
     "height": 1000
    },
    "colab_type": "code",
    "id": "eMDhXrbW3gpQ",
    "outputId": "2dd6e361-0327-430e-a20c-2114601d5c1c"
   },
   "outputs": [
    {
     "name": "stdout",
     "output_type": "stream",
     "text": [
      "Model: \"functional_3\"\n",
      "_________________________________________________________________\n",
      "Layer (type)                 Output Shape              Param #   \n",
      "=================================================================\n",
      "input_2 (InputLayer)         [(None, 224, 224, 3)]     0         \n",
      "_________________________________________________________________\n",
      "block1_conv1 (Conv2D)        (None, 224, 224, 64)      1792      \n",
      "_________________________________________________________________\n",
      "block1_conv2 (Conv2D)        (None, 224, 224, 64)      36928     \n",
      "_________________________________________________________________\n",
      "block1_pool (MaxPooling2D)   (None, 112, 112, 64)      0         \n",
      "_________________________________________________________________\n",
      "block2_conv1 (Conv2D)        (None, 112, 112, 128)     73856     \n",
      "_________________________________________________________________\n",
      "block2_conv2 (Conv2D)        (None, 112, 112, 128)     147584    \n",
      "_________________________________________________________________\n",
      "block2_pool (MaxPooling2D)   (None, 56, 56, 128)       0         \n",
      "_________________________________________________________________\n",
      "block3_conv1 (Conv2D)        (None, 56, 56, 256)       295168    \n",
      "_________________________________________________________________\n",
      "block3_conv2 (Conv2D)        (None, 56, 56, 256)       590080    \n",
      "_________________________________________________________________\n",
      "block3_conv3 (Conv2D)        (None, 56, 56, 256)       590080    \n",
      "_________________________________________________________________\n",
      "block3_pool (MaxPooling2D)   (None, 28, 28, 256)       0         \n",
      "_________________________________________________________________\n",
      "block4_conv1 (Conv2D)        (None, 28, 28, 512)       1180160   \n",
      "_________________________________________________________________\n",
      "block4_conv2 (Conv2D)        (None, 28, 28, 512)       2359808   \n",
      "_________________________________________________________________\n",
      "block4_conv3 (Conv2D)        (None, 28, 28, 512)       2359808   \n",
      "_________________________________________________________________\n",
      "block4_pool (MaxPooling2D)   (None, 14, 14, 512)       0         \n",
      "_________________________________________________________________\n",
      "block5_conv1 (Conv2D)        (None, 14, 14, 512)       2359808   \n",
      "_________________________________________________________________\n",
      "block5_conv2 (Conv2D)        (None, 14, 14, 512)       2359808   \n",
      "_________________________________________________________________\n",
      "block5_conv3 (Conv2D)        (None, 14, 14, 512)       2359808   \n",
      "_________________________________________________________________\n",
      "block5_pool (MaxPooling2D)   (None, 7, 7, 512)         0         \n",
      "_________________________________________________________________\n",
      "flatten (Flatten)            (None, 25088)             0         \n",
      "_________________________________________________________________\n",
      "fc1 (Dense)                  (None, 4096)              102764544 \n",
      "_________________________________________________________________\n",
      "fc2 (Dense)                  (None, 4096)              16781312  \n",
      "_________________________________________________________________\n",
      "dense_1 (Dense)              (None, 2)                 8194      \n",
      "=================================================================\n",
      "Total params: 134,268,738\n",
      "Trainable params: 134,268,738\n",
      "Non-trainable params: 0\n",
      "_________________________________________________________________\n"
     ]
    }
   ],
   "source": [
    "last_layer = model.get_layer('fc2')\n",
    "last_output = last_layer.output\n",
    "\n",
    "x = keras.layers.Dense(2,activation='softmax')(last_output)           \n",
    "\n",
    "model = Model( model.input, x) \n",
    "\n",
    "model.compile(optimizer = Adam(lr=0.00001), \n",
    "              loss = 'categorical_crossentropy', \n",
    "              metrics = ['acc'])\n",
    "\n",
    "model.summary()"
   ]
  },
  {
   "cell_type": "code",
   "execution_count": 21,
   "metadata": {
    "colab": {
     "base_uri": "https://localhost:8080/",
     "height": 553
    },
    "colab_type": "code",
    "id": "oMQDHFiV3gvw",
    "outputId": "4dde23eb-b1b8-4065-f682-ae0c7e267d88"
   },
   "outputs": [
    {
     "name": "stdout",
     "output_type": "stream",
     "text": [
      "Epoch 1/30\n",
      "133/133 [==============================] - 351s 3s/step - loss: 0.2632 - acc: 0.8889 - val_loss: 0.2614 - val_acc: 0.8814\n",
      "Epoch 2/30\n",
      "133/133 [==============================] - 348s 3s/step - loss: 0.0188 - acc: 0.9962 - val_loss: 0.2134 - val_acc: 0.9237\n",
      "Epoch 3/30\n",
      "133/133 [==============================] - 353s 3s/step - loss: 0.0111 - acc: 0.9976 - val_loss: 0.2825 - val_acc: 0.9322\n",
      "Epoch 4/30\n",
      "133/133 [==============================] - 350s 3s/step - loss: 0.0167 - acc: 0.9934 - val_loss: 0.1839 - val_acc: 0.9237\n",
      "Epoch 5/30\n",
      "133/133 [==============================] - 348s 3s/step - loss: 0.0028 - acc: 0.9995 - val_loss: 0.2466 - val_acc: 0.9407\n",
      "Epoch 6/30\n",
      "133/133 [==============================] - 349s 3s/step - loss: 8.9333e-04 - acc: 1.0000 - val_loss: 0.3003 - val_acc: 0.9237\n",
      "Epoch 7/30\n",
      "133/133 [==============================] - 348s 3s/step - loss: 0.0101 - acc: 0.9958 - val_loss: 0.3815 - val_acc: 0.9407\n",
      "Epoch 8/30\n",
      "133/133 [==============================] - 350s 3s/step - loss: 0.0115 - acc: 0.9981 - val_loss: 0.2728 - val_acc: 0.9322\n",
      "Epoch 9/30\n",
      "133/133 [==============================] - 350s 3s/step - loss: 2.6292e-04 - acc: 1.0000 - val_loss: 0.2845 - val_acc: 0.9237\n",
      "Epoch 10/30\n",
      "133/133 [==============================] - 348s 3s/step - loss: 0.0351 - acc: 0.9873 - val_loss: 0.2098 - val_acc: 0.9322\n",
      "Epoch 11/30\n",
      "133/133 [==============================] - 348s 3s/step - loss: 0.0192 - acc: 0.9939 - val_loss: 0.2256 - val_acc: 0.9237\n",
      "Epoch 12/30\n",
      "133/133 [==============================] - 348s 3s/step - loss: 0.0030 - acc: 0.9991 - val_loss: 0.2549 - val_acc: 0.9237\n",
      "Epoch 13/30\n",
      "133/133 [==============================] - 351s 3s/step - loss: 0.0045 - acc: 0.9986 - val_loss: 0.3445 - val_acc: 0.9407\n",
      "Epoch 14/30\n",
      "133/133 [==============================] - 348s 3s/step - loss: 0.0031 - acc: 0.9991 - val_loss: 0.1862 - val_acc: 0.9492\n",
      "Epoch 00014: early stopping\n"
     ]
    }
   ],
   "source": [
    "early = keras.callbacks.EarlyStopping(\n",
    "    monitor='val_loss', min_delta=0, patience=10, verbose=1\n",
    ")\n",
    "#history = model.fit(\n",
    "            #x=X_train, y=y_train, \n",
    "             #       batch_size=16,\n",
    "              #      epochs=50, \n",
    "               #     validation_data=(X_val , y_val),callbacks = [early],\n",
    "            #\n",
    "            #verbose=1\n",
    "        #)\n",
    "history = model.fit_generator(train_generator,\n",
    "            validation_data = validation_generator,\n",
    "            epochs = 30, callbacks = [early]\n",
    "            )"
   ]
  },
  {
   "cell_type": "code",
   "execution_count": 22,
   "metadata": {
    "colab": {
     "base_uri": "https://localhost:8080/",
     "height": 54
    },
    "colab_type": "code",
    "id": "TQyXDTfjKZE-",
    "outputId": "5ebbc597-f92a-4b91-b1be-64ff400f7cf6"
   },
   "outputs": [
    {
     "name": "stdout",
     "output_type": "stream",
     "text": [
      "98\n",
      "105\n"
     ]
    }
   ],
   "source": [
    "\n",
    "data_dir = Path('/content/COVID Splitaug2')\n",
    "test_dir = os.path.join(data_dir, 'Test')\n",
    "test_malaria_dir = os.path.join(test_dir, 'COVID') #Replace the folder names\n",
    "test_uninfected_dir = os.path.join(test_dir, 'NON-COVID')\n",
    "test_malaria_fnames = os.listdir(test_malaria_dir)\n",
    "test_uninfected_fnames = os.listdir(test_uninfected_dir)\n",
    "print(len(test_malaria_fnames))\n",
    "print(len(test_uninfected_fnames))"
   ]
  },
  {
   "cell_type": "code",
   "execution_count": 23,
   "metadata": {
    "colab": {
     "base_uri": "https://localhost:8080/",
     "height": 35
    },
    "colab_type": "code",
    "id": "Obgkl9aoKZNB",
    "outputId": "59a59319-fab4-482a-a276-ea6214adb240"
   },
   "outputs": [
    {
     "name": "stdout",
     "output_type": "stream",
     "text": [
      "Found 203 images belonging to 2 classes.\n"
     ]
    }
   ],
   "source": [
    "testGenerator = ImageDataGenerator(preprocessing_function=tf.keras.applications.vgg16.preprocess_input).flow_from_directory(test_dir, \n",
    "                                                      batch_size=16,\n",
    "                                                    class_mode='categorical',shuffle=False,target_size=(224,224)\n",
    "                                                      )"
   ]
  },
  {
   "cell_type": "code",
   "execution_count": 24,
   "metadata": {
    "colab": {
     "base_uri": "https://localhost:8080/",
     "height": 239
    },
    "colab_type": "code",
    "id": "XqpT8FVmKZRw",
    "outputId": "b4e9657a-e584-4873-e684-e767be31f011"
   },
   "outputs": [
    {
     "name": "stdout",
     "output_type": "stream",
     "text": [
      "['COVID', 'NON-COVID']\n",
      "[[83 15]\n",
      " [ 7 98]]\n",
      "              precision    recall  f1-score   support\n",
      "\n",
      "       COVID       0.92      0.85      0.88        98\n",
      "   NON-COVID       0.87      0.93      0.90       105\n",
      "\n",
      "    accuracy                           0.89       203\n",
      "   macro avg       0.89      0.89      0.89       203\n",
      "weighted avg       0.89      0.89      0.89       203\n",
      "\n"
     ]
    }
   ],
   "source": [
    "import numpy as np\n",
    "from sklearn.metrics import confusion_matrix,classification_report\n",
    "batch_size = 16\n",
    "num_of_test_samples = 203\n",
    "predictions = model.predict_generator(testGenerator)\n",
    "\n",
    "y_pred = np.argmax(predictions, axis=1)\n",
    "\n",
    "true_classes = testGenerator.classes\n",
    "\n",
    "class_labels = list(testGenerator.class_indices.keys())   \n",
    "\n",
    "print(class_labels)\n",
    "\n",
    "print(confusion_matrix(testGenerator.classes, y_pred))\n",
    "\n",
    "report = classification_report(true_classes, y_pred, target_names=class_labels)\n",
    "print(report)"
   ]
  },
  {
   "cell_type": "code",
   "execution_count": 25,
   "metadata": {
    "colab": {
     "base_uri": "https://localhost:8080/",
     "height": 54
    },
    "colab_type": "code",
    "id": "-h_vGIJAKZZe",
    "outputId": "dbc28022-b0b1-4098-8b71-f5cddef29811"
   },
   "outputs": [
    {
     "name": "stdout",
     "output_type": "stream",
     "text": [
      "13/13 [==============================] - 6s 430ms/step - loss: 0.7710 - acc: 0.8916\n"
     ]
    },
    {
     "data": {
      "text/plain": [
       "[0.7709817886352539, 0.8916256427764893]"
      ]
     },
     "execution_count": 25,
     "metadata": {
      "tags": []
     },
     "output_type": "execute_result"
    }
   ],
   "source": [
    "model.evaluate(testGenerator)"
   ]
  },
  {
   "cell_type": "code",
   "execution_count": 26,
   "metadata": {
    "colab": {
     "base_uri": "https://localhost:8080/",
     "height": 35
    },
    "colab_type": "code",
    "id": "iYugUl90KnC8",
    "outputId": "f9da8e37-940a-4753-ce74-14b54edc97f3"
   },
   "outputs": [
    {
     "data": {
      "text/plain": [
       "0.8990825688073395"
      ]
     },
     "execution_count": 26,
     "metadata": {
      "tags": []
     },
     "output_type": "execute_result"
    }
   ],
   "source": [
    "from sklearn.metrics import  f1_score,roc_auc_score\n",
    "f1_score(testGenerator.classes, y_pred)\n"
   ]
  },
  {
   "cell_type": "code",
   "execution_count": 27,
   "metadata": {
    "colab": {
     "base_uri": "https://localhost:8080/",
     "height": 35
    },
    "colab_type": "code",
    "id": "bAyPYJ5BKnFe",
    "outputId": "4a56648e-3e31-49a0-9802-32ae182742cc"
   },
   "outputs": [
    {
     "data": {
      "text/plain": [
       "0.8901360544217686"
      ]
     },
     "execution_count": 27,
     "metadata": {
      "tags": []
     },
     "output_type": "execute_result"
    }
   ],
   "source": [
    "roc_auc_score(testGenerator.classes, y_pred)"
   ]
  },
  {
   "cell_type": "code",
   "execution_count": null,
   "metadata": {
    "colab": {},
    "colab_type": "code",
    "id": "EVo714Lfix-c"
   },
   "outputs": [],
   "source": [
    " "
   ]
  }
 ],
 "metadata": {
  "accelerator": "TPU",
  "colab": {
   "collapsed_sections": [],
   "machine_shape": "hm",
   "name": "Copy of Increase RAM Reference Notes By Techhawa .ipynb",
   "provenance": []
  },
  "kernelspec": {
   "display_name": "Python 3",
   "language": "python",
   "name": "python3"
  },
  "language_info": {
   "codemirror_mode": {
    "name": "ipython",
    "version": 3
   },
   "file_extension": ".py",
   "mimetype": "text/x-python",
   "name": "python",
   "nbconvert_exporter": "python",
   "pygments_lexer": "ipython3",
   "version": "3.6.10"
  }
 },
 "nbformat": 4,
 "nbformat_minor": 1
}
