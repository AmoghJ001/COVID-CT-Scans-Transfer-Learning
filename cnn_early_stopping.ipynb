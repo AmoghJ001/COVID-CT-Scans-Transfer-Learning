{
 "cells": [
  {
   "cell_type": "code",
   "execution_count": null,
   "metadata": {
    "colab": {},
    "colab_type": "code",
    "id": "tZRSiDYNQLSr"
   },
   "outputs": [],
   "source": [
    "# as you can see current ram is 12GB only, to increase it run below code"
   ]
  },
  {
   "cell_type": "code",
   "execution_count": 1,
   "metadata": {
    "colab": {
     "base_uri": "https://localhost:8080/",
     "height": 35
    },
    "colab_type": "code",
    "id": "87T5BetZQYQv",
    "outputId": "34fdfa3b-9c8d-46de-f2b1-9e4b1ab0bef5"
   },
   "outputs": [
    {
     "name": "stdout",
     "output_type": "stream",
     "text": [
      "Mounted at /content/drive\n"
     ]
    }
   ],
   "source": [
    "from google.colab import drive\n",
    "drive.mount('/content/drive')"
   ]
  },
  {
   "cell_type": "code",
   "execution_count": 3,
   "metadata": {
    "colab": {
     "base_uri": "https://localhost:8080/",
     "height": 74
    },
    "colab_type": "code",
    "id": "IX7v0kHFmGcJ",
    "outputId": "2b8c25be-5f69-4415-d928-568107e19a79"
   },
   "outputs": [
    {
     "name": "stderr",
     "output_type": "stream",
     "text": [
      "/usr/local/lib/python3.6/dist-packages/statsmodels/tools/_testing.py:19: FutureWarning: pandas.util.testing is deprecated. Use the functions in the public API at pandas.testing instead.\n",
      "  import pandas.util.testing as tm\n"
     ]
    }
   ],
   "source": [
    "import os\n",
    "import numpy as np\n",
    "import pandas as pd\n",
    "import cv2\n",
    "import seaborn as sns\n",
    "from sklearn.model_selection import train_test_split\n",
    "from tqdm import tqdm\n",
    "import matplotlib.pyplot as plt\n",
    "import keras\n",
    "\n",
    "import numpy as np \n",
    "import pandas as pd\n",
    "import glob\n",
    "import cv2\n",
    "import os\n",
    "from pathlib import Path\n",
    "from sklearn.utils import shuffle\n",
    "from sklearn.model_selection import train_test_split\n",
    "from keras.utils import to_categorical\n",
    "from keras.preprocessing.image import ImageDataGenerator\n",
    "from keras.layers import Conv2D, MaxPooling2D, Flatten, Dense, BatchNormalization, Dropout\n",
    "from keras.models import Sequential\n",
    "\n",
    "import os\n",
    "import tensorflow as tf\n",
    "from keras import layers\n",
    "from keras import Model\n",
    "from os import getcwd\n",
    "from keras.optimizers import RMSprop\n",
    "from keras.preprocessing.image import ImageDataGenerator\n",
    "import cv2\n",
    "from tqdm import tqdm\n",
    "import matplotlib.pyplot as plt\n",
    "from keras.optimizers import RMSprop\n",
    "import keras\n",
    "from keras.models import Sequential, Model\n",
    "from keras.layers import Conv2D, Dense, MaxPooling2D, Flatten, Dropout,GlobalAveragePooling2D\n",
    "from keras.preprocessing.image import ImageDataGenerator\n",
    "from keras.optimizers import Adam\n",
    "import keras\n",
    "from keras.models import Sequential\n",
    "from keras.layers import Input, Dense, Conv2D\n",
    "from keras.layers import MaxPooling2D, Dropout,Flatten\n",
    "from keras import backend as K\n",
    "from keras.models import Model\n",
    "import numpy as np\n",
    "import matplotlib.pyplot as plt\n",
    "from keras.applications.xception import preprocess_input\n"
   ]
  },
  {
   "cell_type": "code",
   "execution_count": 4,
   "metadata": {
    "colab": {
     "base_uri": "https://localhost:8080/",
     "height": 128
    },
    "colab_type": "code",
    "id": "Ot_nUrIh27yi",
    "outputId": "168e8dbe-d311-4fae-c71c-b11a487eee00"
   },
   "outputs": [
    {
     "name": "stdout",
     "output_type": "stream",
     "text": [
      "955\n",
      "60\n",
      "1170\n",
      "58\n",
      "Test Covid 98\n",
      "Test Noncovid 105\n"
     ]
    }
   ],
   "source": [
    "data_dir = Path('/content/COVID Splitaug2') # Your Dataset Location Path\n",
    "train_dir = os.path.join(data_dir, 'Train')\n",
    "test_dir = os.path.join(data_dir, 'Test')\n",
    "#test_dir2 = os.path.join(data_dir, 'Test2')\n",
    "val_dir = os.path.join(data_dir, 'Val')\n",
    "train_malaria_dir = os.path.join(train_dir, 'COVID') #Replace the folder names\n",
    "train_uninfected_dir = os.path.join(train_dir, 'NON-COVID')\n",
    "validation_malaria_dir = os.path.join(val_dir, 'COVID')\n",
    "validation_uninfected_dir = os.path.join(val_dir, 'NON-COVID')\n",
    "test_malaria_dir = os.path.join(test_dir, 'COVID') #Replace the folder names\n",
    "test_uninfected_dir = os.path.join(test_dir, 'NON-COVID')\n",
    "#test_malaria_dir2 = os.path.join(test_dir2, 'COVID') #Replace the folder names\n",
    "#test_uninfected_dir2 = os.path.join(test_dir2, 'NON-COVID')\n",
    "\n",
    "train_malaria_fnames = os.listdir(train_malaria_dir)\n",
    "train_uninfected_fnames = os.listdir(train_uninfected_dir)\n",
    "validation_malaria_fnames = os.listdir(validation_malaria_dir)\n",
    "validation_uninfected_fnames = os.listdir(validation_uninfected_dir)\n",
    "test_malaria_fnames = os.listdir(test_malaria_dir)\n",
    "test_uninfected_fnames = os.listdir(test_uninfected_dir)\n",
    "##test_malaria_fnames2 = os.listdir(test_malaria_dir2)\n",
    "#test_uninfected_fnames2 = os.listdir(test_uninfected_dir2)\n",
    "\n",
    "\n",
    "print(len(train_malaria_fnames))\n",
    "print(len(validation_malaria_fnames))\n",
    "print(len(train_uninfected_fnames))\n",
    "print(len(validation_uninfected_fnames))\n",
    "print(\"Test Covid\", len(test_malaria_fnames))\n",
    "print(\"Test Noncovid\", len(test_uninfected_fnames))\n",
    "\n"
   ]
  },
  {
   "cell_type": "code",
   "execution_count": 5,
   "metadata": {
    "colab": {
     "base_uri": "https://localhost:8080/",
     "height": 54
    },
    "colab_type": "code",
    "id": "zsDFA01v275K",
    "outputId": "6d8b681e-908f-48eb-bc8f-7dc7a1c1b821"
   },
   "outputs": [
    {
     "name": "stdout",
     "output_type": "stream",
     "text": [
      "Found 2125 images belonging to 2 classes.\n",
      "Found 118 images belonging to 2 classes.\n"
     ]
    }
   ],
   "source": [
    "train_datagen = ImageDataGenerator(rescale = 1./255)\n",
    "\n",
    "\n",
    "train_generator = train_datagen.flow_from_directory(train_dir,\n",
    "                                                    batch_size=16,\n",
    "                                                    class_mode='categorical',\n",
    "                                                    target_size=(224, 224)\n",
    "                                                    )\n",
    "validation_datagen = ImageDataGenerator(rescale=1./255\n",
    "                                        #preprocessing_function=tf.keras.applications.vgg16.preprocess_input\n",
    "                                        )\n",
    " \n",
    "\n",
    "validation_generator = validation_datagen.flow_from_directory(val_dir,\n",
    "                                                              batch_size=8,\n",
    "                                                              class_mode='categorical',\n",
    "                                                              target_size=(224, 224))"
   ]
  },
  {
   "cell_type": "code",
   "execution_count": 51,
   "metadata": {
    "colab": {
     "base_uri": "https://localhost:8080/",
     "height": 903
    },
    "colab_type": "code",
    "id": "LKqqD_1NLtz2",
    "outputId": "c50b4f04-171e-4b60-cec3-a25e70ad68ff"
   },
   "outputs": [
    {
     "name": "stdout",
     "output_type": "stream",
     "text": [
      "Model: \"sequential_3\"\n",
      "_________________________________________________________________\n",
      "Layer (type)                 Output Shape              Param #   \n",
      "=================================================================\n",
      "conv2d_18 (Conv2D)           (None, 222, 222, 16)      448       \n",
      "_________________________________________________________________\n",
      "batch_normalization_28 (Batc (None, 222, 222, 16)      64        \n",
      "_________________________________________________________________\n",
      "max_pooling2d_18 (MaxPooling (None, 111, 111, 16)      0         \n",
      "_________________________________________________________________\n",
      "batch_normalization_29 (Batc (None, 111, 111, 16)      64        \n",
      "_________________________________________________________________\n",
      "conv2d_19 (Conv2D)           (None, 109, 109, 32)      4640      \n",
      "_________________________________________________________________\n",
      "batch_normalization_30 (Batc (None, 109, 109, 32)      128       \n",
      "_________________________________________________________________\n",
      "max_pooling2d_19 (MaxPooling (None, 54, 54, 32)        0         \n",
      "_________________________________________________________________\n",
      "batch_normalization_31 (Batc (None, 54, 54, 32)        128       \n",
      "_________________________________________________________________\n",
      "conv2d_20 (Conv2D)           (None, 52, 52, 64)        18496     \n",
      "_________________________________________________________________\n",
      "batch_normalization_32 (Batc (None, 52, 52, 64)        256       \n",
      "_________________________________________________________________\n",
      "max_pooling2d_20 (MaxPooling (None, 26, 26, 64)        0         \n",
      "_________________________________________________________________\n",
      "batch_normalization_33 (Batc (None, 26, 26, 64)        256       \n",
      "_________________________________________________________________\n",
      "conv2d_21 (Conv2D)           (None, 24, 24, 128)       73856     \n",
      "_________________________________________________________________\n",
      "batch_normalization_34 (Batc (None, 24, 24, 128)       512       \n",
      "_________________________________________________________________\n",
      "max_pooling2d_21 (MaxPooling (None, 12, 12, 128)       0         \n",
      "_________________________________________________________________\n",
      "batch_normalization_35 (Batc (None, 12, 12, 128)       512       \n",
      "_________________________________________________________________\n",
      "flatten_5 (Flatten)          (None, 18432)             0         \n",
      "_________________________________________________________________\n",
      "dense_11 (Dense)             (None, 256)               4718848   \n",
      "_________________________________________________________________\n",
      "batch_normalization_36 (Batc (None, 256)               1024      \n",
      "_________________________________________________________________\n",
      "dense_12 (Dense)             (None, 2)                 514       \n",
      "=================================================================\n",
      "Total params: 4,819,746\n",
      "Trainable params: 4,818,274\n",
      "Non-trainable params: 1,472\n",
      "_________________________________________________________________\n"
     ]
    }
   ],
   "source": [
    "model = Sequential()\n",
    "model.add(Conv2D(16, kernel_size=(3, 3), activation='relu', input_shape=(224,224,3)))\n",
    "model.add(BatchNormalization())\n",
    "model.add(MaxPooling2D(pool_size=(2, 2)))\n",
    "model.add(BatchNormalization())\n",
    "model.add(Conv2D(32, kernel_size=(3, 3), activation='relu'))\n",
    "model.add(BatchNormalization())\n",
    "model.add(MaxPooling2D(pool_size=(2, 2)))\n",
    "model.add(BatchNormalization())\n",
    "model.add(Conv2D(64, kernel_size=(3, 3), activation='relu'))\n",
    "model.add(BatchNormalization())\n",
    "model.add(MaxPooling2D(pool_size=(2, 2)))\n",
    "model.add(BatchNormalization())\n",
    "model.add(Conv2D(128, kernel_size=(3, 3), activation='relu'))\n",
    "model.add(BatchNormalization())\n",
    "model.add(MaxPooling2D(pool_size=(2, 2)))\n",
    "model.add(BatchNormalization())\n",
    "model.add(Flatten())\n",
    "model.add(Dense(256, activation='relu'))\n",
    "model.add(BatchNormalization())\n",
    "model.add(Dense(2, activation='softmax'))\n",
    "model.compile(optimizer= keras.optimizers.Adam(lr =0.00001),\n",
    "                loss='categorical_crossentropy',\n",
    "                metrics=['accuracy'])\n",
    "model.summary()"
   ]
  },
  {
   "cell_type": "code",
   "execution_count": 52,
   "metadata": {
    "colab": {
     "base_uri": "https://localhost:8080/",
     "height": 868
    },
    "colab_type": "code",
    "id": "cSxZQhGrp6Ka",
    "outputId": "7bf914f1-a70e-4ca9-e171-e55ea5747dd9"
   },
   "outputs": [
    {
     "name": "stdout",
     "output_type": "stream",
     "text": [
      "Epoch 1/30\n",
      "133/133 [==============================] - 28s 213ms/step - loss: 0.6166 - accuracy: 0.7012 - val_loss: 0.9783 - val_accuracy: 0.4915\n",
      "Epoch 2/30\n",
      "133/133 [==============================] - 28s 211ms/step - loss: 0.2679 - accuracy: 0.8922 - val_loss: 1.0489 - val_accuracy: 0.5169\n",
      "Epoch 3/30\n",
      "133/133 [==============================] - 28s 209ms/step - loss: 0.1801 - accuracy: 0.9416 - val_loss: 0.7337 - val_accuracy: 0.6017\n",
      "Epoch 4/30\n",
      "133/133 [==============================] - 28s 210ms/step - loss: 0.1215 - accuracy: 0.9718 - val_loss: 0.2953 - val_accuracy: 0.8983\n",
      "Epoch 5/30\n",
      "133/133 [==============================] - 28s 213ms/step - loss: 0.0987 - accuracy: 0.9760 - val_loss: 0.2027 - val_accuracy: 0.9068\n",
      "Epoch 6/30\n",
      "133/133 [==============================] - 28s 210ms/step - loss: 0.0752 - accuracy: 0.9896 - val_loss: 0.1906 - val_accuracy: 0.9153\n",
      "Epoch 7/30\n",
      "133/133 [==============================] - 28s 211ms/step - loss: 0.0654 - accuracy: 0.9896 - val_loss: 0.1872 - val_accuracy: 0.9322\n",
      "Epoch 8/30\n",
      "133/133 [==============================] - 28s 214ms/step - loss: 0.0554 - accuracy: 0.9929 - val_loss: 0.1883 - val_accuracy: 0.9153\n",
      "Epoch 9/30\n",
      "133/133 [==============================] - 28s 212ms/step - loss: 0.0443 - accuracy: 0.9934 - val_loss: 0.1786 - val_accuracy: 0.9407\n",
      "Epoch 10/30\n",
      "133/133 [==============================] - 28s 212ms/step - loss: 0.0514 - accuracy: 0.9901 - val_loss: 0.1777 - val_accuracy: 0.9153\n",
      "Epoch 11/30\n",
      "133/133 [==============================] - 28s 212ms/step - loss: 0.0329 - accuracy: 0.9972 - val_loss: 0.1866 - val_accuracy: 0.9237\n",
      "Epoch 12/30\n",
      "133/133 [==============================] - 28s 212ms/step - loss: 0.0313 - accuracy: 0.9948 - val_loss: 0.1716 - val_accuracy: 0.9237\n",
      "Epoch 13/30\n",
      "133/133 [==============================] - 28s 212ms/step - loss: 0.0227 - accuracy: 0.9986 - val_loss: 0.1681 - val_accuracy: 0.9407\n",
      "Epoch 14/30\n",
      "133/133 [==============================] - 28s 214ms/step - loss: 0.0247 - accuracy: 0.9991 - val_loss: 0.1798 - val_accuracy: 0.9237\n",
      "Epoch 15/30\n",
      "133/133 [==============================] - 28s 214ms/step - loss: 0.0202 - accuracy: 0.9976 - val_loss: 0.1594 - val_accuracy: 0.9322\n",
      "Epoch 16/30\n",
      "133/133 [==============================] - 29s 218ms/step - loss: 0.0229 - accuracy: 0.9981 - val_loss: 0.1579 - val_accuracy: 0.9322\n",
      "Epoch 17/30\n",
      "133/133 [==============================] - 29s 215ms/step - loss: 0.0239 - accuracy: 0.9962 - val_loss: 0.1520 - val_accuracy: 0.9407\n",
      "Epoch 18/30\n",
      "133/133 [==============================] - 28s 214ms/step - loss: 0.0171 - accuracy: 0.9991 - val_loss: 0.1545 - val_accuracy: 0.9407\n",
      "Epoch 19/30\n",
      "133/133 [==============================] - 28s 213ms/step - loss: 0.0156 - accuracy: 0.9995 - val_loss: 0.1547 - val_accuracy: 0.9322\n",
      "Epoch 20/30\n",
      "133/133 [==============================] - 28s 214ms/step - loss: 0.0153 - accuracy: 0.9991 - val_loss: 0.1565 - val_accuracy: 0.9322\n",
      "Epoch 21/30\n",
      "133/133 [==============================] - 28s 214ms/step - loss: 0.0163 - accuracy: 0.9972 - val_loss: 0.1624 - val_accuracy: 0.9237\n",
      "Epoch 22/30\n",
      "133/133 [==============================] - 28s 213ms/step - loss: 0.0140 - accuracy: 0.9991 - val_loss: 0.1697 - val_accuracy: 0.9237\n",
      "Epoch 00022: early stopping\n"
     ]
    }
   ],
   "source": [
    "early = keras.callbacks.EarlyStopping(\n",
    "    monitor='val_loss', min_delta=0, patience=5, verbose=1\n",
    ")\n",
    "#history = model.fit(\n",
    "            #x=X_train, y=y_train, \n",
    "             #       batch_size=16,\n",
    "              #      epochs=50, \n",
    "               #     validation_data=(X_val , y_val),callbacks = [early],\n",
    "            #\n",
    "            #verbose=1\n",
    "        #)\n",
    "history = model.fit_generator(train_generator,\n",
    "            validation_data = validation_generator,\n",
    "            epochs = 30, \n",
    "            callbacks = [early]\n",
    "            )"
   ]
  },
  {
   "cell_type": "code",
   "execution_count": 53,
   "metadata": {
    "colab": {
     "base_uri": "https://localhost:8080/",
     "height": 54
    },
    "colab_type": "code",
    "id": "H0KCv1SfCcL-",
    "outputId": "6ea62b69-1877-4d2b-aa15-084ecf2ec806"
   },
   "outputs": [
    {
     "name": "stdout",
     "output_type": "stream",
     "text": [
      "98\n",
      "105\n"
     ]
    }
   ],
   "source": [
    "data_dir = Path('/content/COVID Splitaug2')\n",
    "test_dir = os.path.join(data_dir, 'Test')\n",
    "test_malaria_dir = os.path.join(test_dir, 'COVID') #Replace the folder names\n",
    "test_uninfected_dir = os.path.join(test_dir, 'NON-COVID')\n",
    "test_malaria_fnames = os.listdir(test_malaria_dir)\n",
    "test_uninfected_fnames = os.listdir(test_uninfected_dir)\n",
    "print(len(test_malaria_fnames))\n",
    "print(len(test_uninfected_fnames))"
   ]
  },
  {
   "cell_type": "code",
   "execution_count": 54,
   "metadata": {
    "colab": {
     "base_uri": "https://localhost:8080/",
     "height": 35
    },
    "colab_type": "code",
    "id": "Zs32p8AhChk9",
    "outputId": "ec0cd507-57e5-4f5b-f55e-1078f5728a75"
   },
   "outputs": [
    {
     "name": "stdout",
     "output_type": "stream",
     "text": [
      "Found 203 images belonging to 2 classes.\n"
     ]
    }
   ],
   "source": [
    "testGenerator = ImageDataGenerator(rescale = 1./255).flow_from_directory(test_dir, \n",
    "                                                      batch_size=16,\n",
    "                                                    class_mode='categorical',shuffle=False,target_size=(224,224)\n",
    "                                                      )"
   ]
  },
  {
   "cell_type": "code",
   "execution_count": 55,
   "metadata": {
    "colab": {
     "base_uri": "https://localhost:8080/",
     "height": 239
    },
    "colab_type": "code",
    "id": "8K4SKTDLChny",
    "outputId": "b076998f-581d-4e02-b263-93de0e1a9d3d"
   },
   "outputs": [
    {
     "name": "stdout",
     "output_type": "stream",
     "text": [
      "['COVID', 'NON-COVID']\n",
      "[[85 13]\n",
      " [ 9 96]]\n",
      "              precision    recall  f1-score   support\n",
      "\n",
      "       COVID       0.90      0.87      0.89        98\n",
      "   NON-COVID       0.88      0.91      0.90       105\n",
      "\n",
      "    accuracy                           0.89       203\n",
      "   macro avg       0.89      0.89      0.89       203\n",
      "weighted avg       0.89      0.89      0.89       203\n",
      "\n"
     ]
    }
   ],
   "source": [
    "import numpy as np\n",
    "from sklearn.metrics import confusion_matrix,classification_report\n",
    "batch_size = 16\n",
    "num_of_test_samples = 203\n",
    "predictions = model.predict_generator(testGenerator)\n",
    "\n",
    "y_pred = np.argmax(predictions, axis=1)\n",
    "\n",
    "true_classes = testGenerator.classes\n",
    "\n",
    "class_labels = list(testGenerator.class_indices.keys())   \n",
    "\n",
    "print(class_labels)\n",
    "\n",
    "print(confusion_matrix(testGenerator.classes, y_pred))\n",
    "\n",
    "report = classification_report(true_classes, y_pred, target_names=class_labels)\n",
    "print(report)"
   ]
  },
  {
   "cell_type": "code",
   "execution_count": 56,
   "metadata": {
    "colab": {
     "base_uri": "https://localhost:8080/",
     "height": 35
    },
    "colab_type": "code",
    "id": "iCregJb7ChqK",
    "outputId": "044db2be-6ffc-4e46-d23c-8e7418ca4b14"
   },
   "outputs": [
    {
     "data": {
      "text/plain": [
       "0.8916256157635468"
      ]
     },
     "execution_count": 56,
     "metadata": {
      "tags": []
     },
     "output_type": "execute_result"
    }
   ],
   "source": [
    "accuracy_score(testGenerator.classes, y_pred)\n"
   ]
  },
  {
   "cell_type": "code",
   "execution_count": 57,
   "metadata": {
    "colab": {
     "base_uri": "https://localhost:8080/",
     "height": 35
    },
    "colab_type": "code",
    "id": "EFTUs0CmChte",
    "outputId": "1509c101-781b-4e91-ae5c-99530063242e"
   },
   "outputs": [
    {
     "data": {
      "text/plain": [
       "0.8971962616822431"
      ]
     },
     "execution_count": 57,
     "metadata": {
      "tags": []
     },
     "output_type": "execute_result"
    }
   ],
   "source": [
    "from sklearn.metrics import  f1_score,roc_auc_score,  accuracy_score\n",
    "f1_score(testGenerator.classes, y_pred)\n"
   ]
  },
  {
   "cell_type": "code",
   "execution_count": 58,
   "metadata": {
    "colab": {
     "base_uri": "https://localhost:8080/",
     "height": 35
    },
    "colab_type": "code",
    "id": "y-3brPb5C5hU",
    "outputId": "b869ec74-3b75-47fd-cc10-47bc293b1a5d"
   },
   "outputs": [
    {
     "data": {
      "text/plain": [
       "0.8908163265306122"
      ]
     },
     "execution_count": 58,
     "metadata": {
      "tags": []
     },
     "output_type": "execute_result"
    }
   ],
   "source": [
    "roc_auc_score(testGenerator.classes, y_pred)"
   ]
  },
  {
   "cell_type": "code",
   "execution_count": 59,
   "metadata": {
    "colab": {
     "base_uri": "https://localhost:8080/",
     "height": 295
    },
    "colab_type": "code",
    "id": "TiLVeppCC0pg",
    "outputId": "6f603b7b-7c1e-4e20-f74b-6c9a6edb2615"
   },
   "outputs": [
    {
     "data": {
      "image/png": "[encoded data removed]",
      "text/plain": [
       "<Figure size 432x288 with 1 Axes>"
      ]
     },
     "metadata": {
      "needs_background": "light",
      "tags": []
     },
     "output_type": "display_data"
    }
   ],
   "source": [
    "import matplotlib.pyplot as plt\n",
    "plt.plot(history.history['accuracy'])\n",
    "plt.plot(history.history['val_accuracy'])\n",
    "plt.title('Proposed CNN accuracy')\n",
    "plt.ylabel('accuracy')\n",
    "plt.xlabel('epoch')\n",
    "plt.legend(['train', 'val'], loc='best')\n",
    "\n",
    "#plt.savefig('cnnaccpneu1.png')\n",
    "plt.show()"
   ]
  },
  {
   "cell_type": "code",
   "execution_count": 60,
   "metadata": {
    "colab": {
     "base_uri": "https://localhost:8080/",
     "height": 295
    },
    "colab_type": "code",
    "id": "bqiSDJzZDT5W",
    "outputId": "c73b4a98-4b1f-4ac5-d311-69521e2b3aa3"
   },
   "outputs": [
    {
     "data": {
      "image/png": "[encoded data removed]",
      "text/plain": [
       "<Figure size 432x288 with 1 Axes>"
      ]
     },
     "metadata": {
      "needs_background": "light",
      "tags": []
     },
     "output_type": "display_data"
    }
   ],
   "source": [
    "import matplotlib.pyplot as plt\n",
    "plt.plot(history.history['loss'])\n",
    "plt.plot(history.history['val_loss'])\n",
    "plt.title('Proposed CNN loss')\n",
    "plt.ylabel('loss')\n",
    "plt.xlabel('epoch')\n",
    "plt.legend(['train', 'val'], loc='best')\n",
    "\n",
    "#plt.savefig('cnnaccpneu1.png')\n",
    "plt.show()"
   ]
  },
  {
   "cell_type": "code",
   "execution_count": 61,
   "metadata": {
    "colab": {
     "base_uri": "https://localhost:8080/",
     "height": 315
    },
    "colab_type": "code",
    "id": "-xF25xfpMpif",
    "outputId": "c8053644-25e0-4c42-cd5d-0f643da2de58"
   },
   "outputs": [
    {
     "name": "stdout",
     "output_type": "stream",
     "text": [
      "Confusion Matrix\n"
     ]
    },
    {
     "data": {
      "text/plain": [
       "Text(0.5, 1.0, 'Confusion matrix ')"
      ]
     },
     "execution_count": 61,
     "metadata": {
      "tags": []
     },
     "output_type": "execute_result"
    },
    {
     "data": {
      "image/png": "[encoded data removed]",
      "text/plain": [
       "<Figure size 432x288 with 2 Axes>"
      ]
     },
     "metadata": {
      "needs_background": "light",
      "tags": []
     },
     "output_type": "display_data"
    }
   ],
   "source": [
    "print('Confusion Matrix')\n",
    "cm = confusion_matrix(testGenerator.classes, y_pred)\n",
    "sns.heatmap(cm,annot = True, cmap=plt.cm.Blues)\n",
    "plt.xlabel(\"Predicted labels\")\n",
    "plt.ylabel(\"True labels\")\n",
    "plt.xticks([], [])\n",
    "plt.yticks([], [])\n",
    "plt.title('Confusion matrix ')\n",
    "#plt.savefig('cnncmpneu.png')"
   ]
  },
  {
   "cell_type": "code",
   "execution_count": null,
   "metadata": {},
   "outputs": [],
   "source": []
  }
 ],
 "metadata": {
  "accelerator": "TPU",
  "colab": {
   "collapsed_sections": [],
   "machine_shape": "hm",
   "name": "Copy of Increase RAM Reference Notes By Techhawa .ipynb",
   "provenance": []
  },
  "kernelspec": {
   "display_name": "Python 3",
   "language": "python",
   "name": "python3"
  },
  "language_info": {
   "codemirror_mode": {
    "name": "ipython",
    "version": 3
   },
   "file_extension": ".py",
   "mimetype": "text/x-python",
   "name": "python",
   "nbconvert_exporter": "python",
   "pygments_lexer": "ipython3",
   "version": "3.6.10"
  }
 },
 "nbformat": 4,
 "nbformat_minor": 1
}
